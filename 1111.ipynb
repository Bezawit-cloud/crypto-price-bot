{
 "cells": [
  {
   "cell_type": "code",
   "execution_count": 1,
   "id": "82286e62-ab16-4727-af08-25ea0b650797",
   "metadata": {},
   "outputs": [
    {
     "name": "stdout",
     "output_type": "stream",
     "text": [
      "Requirement already satisfied: python-dotenv in c:\\users\\bezis\\anaconda3\\lib\\site-packages (1.1.0)\n"
     ]
    }
   ],
   "source": [
    "!pip install python-dotenv\n",
    "\n"
   ]
  },
  {
   "cell_type": "code",
   "execution_count": 2,
   "id": "b3b99e31-f939-47a8-8d2e-2f417aa3553d",
   "metadata": {},
   "outputs": [
    {
     "name": "stdout",
     "output_type": "stream",
     "text": [
      "Bot token loaded: 8496959357...\n",
      "Chat ID loaded: 6783994364\n"
     ]
    }
   ],
   "source": [
    "from dotenv import load_dotenv\n",
    "import os\n",
    "\n",
    "# Load the .env file\n",
    "load_dotenv()\n",
    "\n",
    "# Use the variable names (keys) from the .env file\n",
    "BOT_TOKEN = os.getenv(\"BOT_TOKEN\")\n",
    "CHAT_ID = os.getenv(\"CHAT_ID\")\n",
    "\n",
    "print(\"Bot token loaded:\", BOT_TOKEN[:10] + \"...\")  # just show part of it\n",
    "print(\"Chat ID loaded:\", CHAT_ID)\n"
   ]
  },
  {
   "cell_type": "code",
   "execution_count": null,
   "id": "b506f94d-4544-4cbb-883c-403471bc46aa",
   "metadata": {},
   "outputs": [],
   "source": []
  }
 ],
 "metadata": {
  "kernelspec": {
   "display_name": "base",
   "language": "python",
   "name": "python3"
  },
  "language_info": {
   "codemirror_mode": {
    "name": "ipython",
    "version": 3
   },
   "file_extension": ".py",
   "mimetype": "text/x-python",
   "name": "python",
   "nbconvert_exporter": "python",
   "pygments_lexer": "ipython3",
   "version": "3.13.5"
  }
 },
 "nbformat": 4,
 "nbformat_minor": 5
}
