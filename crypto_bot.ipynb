{
 "cells": [
  {
   "cell_type": "code",
   "execution_count": null,
   "id": "518ece4c-46a4-425c-97fa-8c33bec9da26",
   "metadata": {},
   "outputs": [],
   "source": [
    "\n"
   ]
  },
  {
   "cell_type": "code",
   "execution_count": 1,
   "id": "7bdf2a2f-72a6-4289-a894-fbd2c542223b",
   "metadata": {},
   "outputs": [],
   "source": [
    "import requests\n",
    "from dotenv import load_dotenv\n",
    "import os\n",
    "\n",
    "load_dotenv()  # loads variables from .env file in current folder\n",
    "\n",
    "BOT_TOKEN = os.getenv(\"BOT_TOKEN\")\n",
    "CHAT_ID = os.getenv(\"CHAT_ID\")\n",
    "API_KEY = os.getenv(\"API_KEY\")\n",
    "\n",
    "\n"
   ]
  },
  {
   "cell_type": "code",
   "execution_count": 2,
   "id": "67909705-8cc1-4d33-925b-8bec64a865bf",
   "metadata": {},
   "outputs": [
    {
     "name": "stdout",
     "output_type": "stream",
     "text": [
      "Message sent successfully!\n"
     ]
    }
   ],
   "source": [
    "def send_telegram_message(message):\n",
    "    url = f\"https://api.telegram.org/bot{BOT_TOKEN}/sendMessage\"\n",
    "    data = {'chat_id': CHAT_ID, 'text': message}\n",
    "    response = requests.post(url, data=data)\n",
    "    if response.status_code == 200:\n",
    "        print('Message sent successfully!')\n",
    "    else:\n",
    "        print('Failed to send message')\n",
    "\n",
    "send_telegram_message(\"Hello Beza! 👋 This is your crypto bot.\")"
   ]
  },
  {
   "cell_type": "code",
   "execution_count": 3,
   "id": "d40717a3-448d-4986-91d5-66f09f2e9d2f",
   "metadata": {},
   "outputs": [],
   "source": [
    "import pandas as pd\n",
    "import json\n",
    "from requests import Session\n",
    "from requests.exceptions import ConnectionError, Timeout, TooManyRedirects\n",
    "\n",
    "def get_latest_prices():\n",
    "    url = 'https://pro-api.coinmarketcap.com/v1/cryptocurrency/listings/latest'\n",
    "    parameters = {'start': '1', 'limit': '20', 'convert': 'USD'}\n",
    "    headers = {'Accepts': 'application/json', 'X-CMC_PRO_API_KEY': API_KEY}\n",
    "\n",
    "    session = Session()\n",
    "    session.headers.update(headers)\n",
    "\n",
    "    try:\n",
    "        response = session.get(url, params=parameters)\n",
    "        data = json.loads(response.text)\n",
    "        df = pd.json_normalize(data['data'])\n",
    "        df['timestamp'] = pd.to_datetime('now')\n",
    "        return df\n",
    "    except (ConnectionError, Timeout, TooManyRedirects) as e:\n",
    "        print(\"❌ API error:\", e)\n",
    "        return None\n"
   ]
  },
  {
   "cell_type": "code",
   "execution_count": 4,
   "id": "69ae5976-d273-42a1-ade0-2c5915e0af89",
   "metadata": {},
   "outputs": [
    {
     "ename": "KeyError",
     "evalue": "'data'",
     "output_type": "error",
     "traceback": [
      "\u001b[1;31m---------------------------------------------------------------------------\u001b[0m",
      "\u001b[1;31mKeyError\u001b[0m                                  Traceback (most recent call last)",
      "Cell \u001b[1;32mIn[4], line 1\u001b[0m\n\u001b[1;32m----> 1\u001b[0m df\u001b[38;5;241m=\u001b[39mget_latest_prices()\n\u001b[0;32m      2\u001b[0m df\u001b[38;5;241m.\u001b[39mhead()\n",
      "Cell \u001b[1;32mIn[3], line 17\u001b[0m, in \u001b[0;36mget_latest_prices\u001b[1;34m()\u001b[0m\n\u001b[0;32m     15\u001b[0m response \u001b[38;5;241m=\u001b[39m session\u001b[38;5;241m.\u001b[39mget(url, params\u001b[38;5;241m=\u001b[39mparameters)\n\u001b[0;32m     16\u001b[0m data \u001b[38;5;241m=\u001b[39m json\u001b[38;5;241m.\u001b[39mloads(response\u001b[38;5;241m.\u001b[39mtext)\n\u001b[1;32m---> 17\u001b[0m df \u001b[38;5;241m=\u001b[39m pd\u001b[38;5;241m.\u001b[39mjson_normalize(data[\u001b[38;5;124m'\u001b[39m\u001b[38;5;124mdata\u001b[39m\u001b[38;5;124m'\u001b[39m])\n\u001b[0;32m     18\u001b[0m df[\u001b[38;5;124m'\u001b[39m\u001b[38;5;124mtimestamp\u001b[39m\u001b[38;5;124m'\u001b[39m] \u001b[38;5;241m=\u001b[39m pd\u001b[38;5;241m.\u001b[39mto_datetime(\u001b[38;5;124m'\u001b[39m\u001b[38;5;124mnow\u001b[39m\u001b[38;5;124m'\u001b[39m)\n\u001b[0;32m     19\u001b[0m \u001b[38;5;28;01mreturn\u001b[39;00m df\n",
      "\u001b[1;31mKeyError\u001b[0m: 'data'"
     ]
    }
   ],
   "source": [
    "df=get_latest_prices()\n",
    "df.head()\n",
    "\n"
   ]
  },
  {
   "cell_type": "code",
   "execution_count": null,
   "id": "d9ef6647-56b1-4f9f-a198-50d42d158453",
   "metadata": {},
   "outputs": [
    {
     "name": "stdout",
     "output_type": "stream",
     "text": [
      "message sent successfully!\n"
     ]
    }
   ],
   "source": [
    "import requests\n",
    "def send_telegram_message(message):\n",
    "    url = f\"https://api.telegram.org/bot{bot_token}/sendMessage\"\n",
    "\n",
    "\n",
    "    data = {'chat_id':6783994364, 'text':message}\n",
    "    response = requests.post(url, data=data)\n",
    "    if response.status_code==200:\n",
    "        print('message sent successfully!')\n",
    "    else:\n",
    "        print('failed to send a message')\n",
    "send_telegram_message('hi beza')\n"
   ]
  },
  {
   "cell_type": "code",
   "execution_count": null,
   "id": "26b96323-781a-4641-b523-b093077c4550",
   "metadata": {},
   "outputs": [],
   "source": [
    "import pandas as pd\n",
    "pd.set_option('display.max_columns', None)\n"
   ]
  },
  {
   "cell_type": "code",
   "execution_count": null,
   "id": "e73012cf-29c8-4171-81ff-4d7f88618416",
   "metadata": {},
   "outputs": [],
   "source": [
    "def check_price_and_alert(df, coin_symbol, threshold):\n",
    "    coin = df[df['symbol'] == coin_symbol]\n",
    "    if coin.empty:\n",
    "        print(f\"❗ {coin_symbol} not found\")\n",
    "        return\n",
    "    price = coin.iloc[0]['quote.USD.price']\n",
    "    print(f\"{coin_symbol} price is ${price:.2f}\")\n",
    "    \n",
    "    if price > threshold:\n",
    "        message = f\"🚨 {coin_symbol} is ${price:.2f} — above ${threshold}!\"\n",
    "        send_telegram_message(message)\n",
    "\n",
    "    \n",
    "    \n"
   ]
  },
  {
   "cell_type": "code",
   "execution_count": null,
   "id": "bd796c20-b091-4ea5-be0d-c76137a27718",
   "metadata": {},
   "outputs": [
    {
     "name": "stdout",
     "output_type": "stream",
     "text": [
      "BTC price is $115040.92\n",
      "message sent successfully!\n"
     ]
    }
   ],
   "source": [
    "import time\n",
    "\n",
    "alert_sent = False  \n",
    "while True:\n",
    "    try:\n",
    "        df = get_latest_prices()\n",
    "        coin = df[df['symbol'] == 'BTC']\n",
    "        price = coin.iloc[0]['quote.USD.price']\n",
    "\n",
    "        print(f\"BTC price is ${price:.2f}\")\n",
    "\n",
    "        if price > 10 and not alert_sent:\n",
    "            send_telegram_message(f\"🚨 BTC is ${price:.2f} — above $3000!\")\n",
    "            alert_sent = True \n",
    "        elif price <= 3000 and alert_sent:\n",
    "            alert_sent = False  \n",
    "    except Exception as e:\n",
    "        print(f\"⚠️ Error: {e}\")\n",
    "\n",
    "    time.sleep(60)\n",
    "\n"
   ]
  },
  {
   "cell_type": "code",
   "execution_count": null,
   "id": "cdb9820d-9c72-40f2-a500-6a883e35fbab",
   "metadata": {},
   "outputs": [],
   "source": []
  },
  {
   "cell_type": "code",
   "execution_count": null,
   "id": "179a3adc-bb42-4c9b-8da8-5b3356f940a1",
   "metadata": {},
   "outputs": [],
   "source": []
  },
  {
   "cell_type": "code",
   "execution_count": null,
   "id": "503a0afd-6ab7-4dd3-b8b4-f0dc18502807",
   "metadata": {},
   "outputs": [],
   "source": []
  },
  {
   "cell_type": "code",
   "execution_count": null,
   "id": "607ad392-e148-474d-85f2-90d68769df9c",
   "metadata": {},
   "outputs": [],
   "source": []
  },
  {
   "cell_type": "code",
   "execution_count": null,
   "id": "4b93a55b-2fce-48d7-b9d8-db4b8388ec70",
   "metadata": {},
   "outputs": [],
   "source": []
  },
  {
   "cell_type": "code",
   "execution_count": null,
   "id": "08d4e6a6-968b-465d-91c8-3e9d88f557ed",
   "metadata": {},
   "outputs": [],
   "source": []
  },
  {
   "cell_type": "code",
   "execution_count": null,
   "id": "001ca7a6-8cdd-455e-93fa-f598020df975",
   "metadata": {},
   "outputs": [],
   "source": []
  }
 ],
 "metadata": {
  "kernelspec": {
   "display_name": "base",
   "language": "python",
   "name": "python3"
  },
  "language_info": {
   "codemirror_mode": {
    "name": "ipython",
    "version": 3
   },
   "file_extension": ".py",
   "mimetype": "text/x-python",
   "name": "python",
   "nbconvert_exporter": "python",
   "pygments_lexer": "ipython3",
   "version": "3.13.5"
  }
 },
 "nbformat": 4,
 "nbformat_minor": 5
}
